{
 "cells": [
  {
   "cell_type": "code",
   "execution_count": 1,
   "id": "d15ada6f",
   "metadata": {},
   "outputs": [
    {
     "name": "stdout",
     "output_type": "stream",
     "text": [
      "The Arabian knights.These are the fairy tales of the east.The stories of the Arabian knights are translated in many languages\n"
     ]
    }
   ],
   "source": [
    "import nltk\n",
    "\n",
    "f = open(\"NGRAM.txt\")\n",
    "corpus = f.read()\n",
    "print(corpus)"
   ]
  },
  {
   "cell_type": "code",
   "execution_count": 2,
   "id": "63494878",
   "metadata": {},
   "outputs": [
    {
     "name": "stdout",
     "output_type": "stream",
     "text": [
      "Preprocessed corpus :  eos the arabian knights eos these are the fairy tales of the east eos the stories of the arabian knights are translated in many languages\n"
     ]
    }
   ],
   "source": [
    "# preprocessing\n",
    "\n",
    "def preprocess(corpus):\n",
    "    corpus = corpus.lower()\n",
    "    corpus = \"eos \" + corpus\n",
    "    corpus = corpus.replace(\".\", \" eos \")\n",
    "    return corpus\n",
    "\n",
    "corpus = preprocess(corpus)\n",
    "print(\"Preprocessed corpus : \", corpus)"
   ]
  },
  {
   "cell_type": "code",
   "execution_count": 3,
   "id": "3fa841b4",
   "metadata": {},
   "outputs": [
    {
     "name": "stdout",
     "output_type": "stream",
     "text": [
      "Tokens:  ['eos', 'the', 'arabian', 'knights', 'eos', 'these', 'are', 'the', 'fairy', 'tales', 'of', 'the', 'east', 'eos', 'the', 'stories', 'of', 'the', 'arabian', 'knights', 'are', 'translated', 'in', 'many', 'languages']\n",
      "Distinct Tokens:  ['many', 'eos', 'east', 'arabian', 'in', 'the', 'stories', 'these', 'are', 'knights', 'languages', 'of', 'tales', 'fairy', 'translated']\n"
     ]
    }
   ],
   "source": [
    "# Tokenization\n",
    "\n",
    "from nltk.tokenize import word_tokenize\n",
    "tokens = word_tokenize(corpus)\n",
    "print(\"Tokens: \", tokens)\n",
    "distinct_tokens = list(set(sorted(tokens)))\n",
    "print(\"Distinct Tokens: \", distinct_tokens)"
   ]
  },
  {
   "cell_type": "code",
   "execution_count": 4,
   "id": "5955d103",
   "metadata": {},
   "outputs": [
    {
     "name": "stdout",
     "output_type": "stream",
     "text": [
      "eos  :  3\n",
      "the  :  5\n",
      "arabian  :  2\n",
      "knights  :  2\n",
      "these  :  1\n",
      "are  :  2\n",
      "fairy  :  1\n",
      "tales  :  1\n",
      "of  :  2\n",
      "east  :  1\n",
      "stories  :  1\n",
      "translated  :  1\n",
      "in  :  1\n",
      "many  :  1\n",
      "languages  :  1\n"
     ]
    }
   ],
   "source": [
    "# frequency of tokens\n",
    "\n",
    "def generate_token_freq(tokens):\n",
    "    dct = {}\n",
    "    for i in tokens:\n",
    "        dct[i] = 0\n",
    "    for i in tokens:\n",
    "        dct[i]+=1\n",
    "    return dct\n",
    "dct = generate_token_freq(tokens)\n",
    "for i in dct.items():\n",
    "    print(i[0], \" : \", i[1])"
   ]
  },
  {
   "cell_type": "code",
   "execution_count": 5,
   "id": "ad58104a",
   "metadata": {},
   "outputs": [
    {
     "name": "stdout",
     "output_type": "stream",
     "text": [
      "Enter n : 2\n",
      "N-gram generated : \n",
      "['eos', 'the']\n",
      "['the', 'arabian']\n",
      "['arabian', 'knights']\n",
      "['knights', 'eos']\n",
      "['eos', 'these']\n",
      "['these', 'are']\n",
      "['are', 'the']\n",
      "['the', 'fairy']\n",
      "['fairy', 'tales']\n",
      "['tales', 'of']\n",
      "['of', 'the']\n",
      "['the', 'east']\n",
      "['east', 'eos']\n",
      "['eos', 'the']\n",
      "['the', 'stories']\n",
      "['stories', 'of']\n",
      "['of', 'the']\n",
      "['the', 'arabian']\n",
      "['arabian', 'knights']\n",
      "['knights', 'are']\n",
      "['are', 'translated']\n",
      "['translated', 'in']\n",
      "['in', 'many']\n",
      "['many', 'languages']\n"
     ]
    }
   ],
   "source": [
    "# Generate n-grams\n",
    "def generate_ngrams(tokens, k):\n",
    "    l = []\n",
    "    i = 0\n",
    "    while i < len(tokens) :\n",
    "        l.append(tokens[i : i+k])\n",
    "        i = i+1\n",
    "    l = l[:-1]\n",
    "    return l\n",
    "\n",
    "k = int(input(\"Enter n : \"))\n",
    "ngram = generate_ngrams(tokens, k)\n",
    "print(\"N-gram generated : \")\n",
    "for i in ngram:\n",
    "    print(i)\n"
   ]
  },
  {
   "cell_type": "code",
   "execution_count": 6,
   "id": "bc75c6cb",
   "metadata": {},
   "outputs": [
    {
     "name": "stdout",
     "output_type": "stream",
     "text": [
      "Frequency of ngram : \n",
      "eos the  :  2\n",
      "the arabian  :  2\n",
      "arabian knights  :  2\n",
      "knights eos  :  1\n",
      "eos these  :  1\n",
      "these are  :  1\n",
      "are the  :  1\n",
      "the fairy  :  1\n",
      "fairy tales  :  1\n",
      "tales of  :  1\n",
      "of the  :  2\n",
      "the east  :  1\n",
      "east eos  :  1\n",
      "the stories  :  1\n",
      "stories of  :  1\n",
      "knights are  :  1\n",
      "are translated  :  1\n",
      "translated in  :  1\n",
      "in many  :  1\n",
      "many languages  :  1\n"
     ]
    }
   ],
   "source": [
    "# frequency of ngram\n",
    "\n",
    "def generate_ngram_freq(ngram):\n",
    "    dct1 = {}\n",
    "    for i in ngram:\n",
    "        st = \" \".join(i)\n",
    "        dct1[st] = 0\n",
    "    for i in ngram:\n",
    "        st = \" \".join(i)\n",
    "        dct1[st]+= 1\n",
    "    return dct1\n",
    "dct1 = generate_ngram_freq(ngram)\n",
    "print(\"Frequency of ngram : \")\n",
    "for i in dct1.items():\n",
    "    print(i[0], \" : \", i[1])"
   ]
  },
  {
   "cell_type": "code",
   "execution_count": null,
   "id": "f0499fa7",
   "metadata": {},
   "outputs": [],
   "source": []
  }
 ],
 "metadata": {
  "kernelspec": {
   "display_name": "Python 3 (ipykernel)",
   "language": "python",
   "name": "python3"
  },
  "language_info": {
   "codemirror_mode": {
    "name": "ipython",
    "version": 3
   },
   "file_extension": ".py",
   "mimetype": "text/x-python",
   "name": "python",
   "nbconvert_exporter": "python",
   "pygments_lexer": "ipython3",
   "version": "3.9.7"
  }
 },
 "nbformat": 4,
 "nbformat_minor": 5
}
