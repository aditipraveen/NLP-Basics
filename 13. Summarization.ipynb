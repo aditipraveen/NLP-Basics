{
 "cells": [
  {
   "cell_type": "code",
   "execution_count": 1,
   "id": "c1e689cc",
   "metadata": {},
   "outputs": [],
   "source": [
    "f = open('summary.txt','r',encoding='latin')"
   ]
  },
  {
   "cell_type": "code",
   "execution_count": 2,
   "id": "40406350",
   "metadata": {},
   "outputs": [
    {
     "data": {
      "text/plain": [
       "['We have often heard that \\x91Cricket is religion in India and Sachin is God\\x92. There is no better statement that can justify the status of Sachin Tendulkar in India. Sachin Tendulkar in India is not just a cricketer, he is God. Also for common people in India, he is an example of hard work and determination. Thus, he is worshipped by everyone in India. The essay on Sachin Tendulkar is a small insight into one of the greatest ever sportsman to have played any game.Sachin Tendulkar was born to a middle-class family and came to limelight with a performance in the school tournament. He held a record partnership at that time with Vinod Kambli playing for their school tournament. That innings changed Sachin\\x92s life completely and he became famous in a fortnight. In those days, the school tournaments had a different fanbase and a good performance can bring you in limelight. Because of that inning, people all over India came to know who Sachin Tendulkar was! Thus, it also caught Indian selector\\x92s eye and Sachin Tendulkar was selected for the tour of Pakistan at an age of 16.']"
      ]
     },
     "execution_count": 2,
     "metadata": {},
     "output_type": "execute_result"
    }
   ],
   "source": [
    "f1=f.readlines()\n",
    "contents=[]\n",
    "for line in f1:\n",
    "    contents.append(line)\n",
    "contents\n"
   ]
  },
  {
   "cell_type": "code",
   "execution_count": 3,
   "id": "d88add6f",
   "metadata": {},
   "outputs": [],
   "source": [
    "text = ' '.join([str(elem) for elem in contents])#list contents were converted to a string and stored in text"
   ]
  },
  {
   "cell_type": "code",
   "execution_count": 4,
   "id": "99036cc8",
   "metadata": {},
   "outputs": [
    {
     "data": {
      "text/plain": [
       "\"We have often heard that 'Cricket is religion in India and Sachin is God'. There is no better statement that can justify the status of Sachin Tendulkar in India. Sachin Tendulkar in India is not just a cricketer, he is God. Also for common people in India, he is an example of hard work and determination. Thus, he is worshipped by everyone in India. The essay on Sachin Tendulkar is a small insight into one of the greatest ever sportsman to have played any game.Sachin Tendulkar was born to a middle-class family and came to limelight with a performance in the school tournament. He held a record partnership at that time with Vinod Kambli playing for their school tournament. That innings changed Sachin's life completely and he became famous in a fortnight. In those days, the school tournaments had a different fanbase and a good performance can bring you in limelight. Because of that inning, people all over India came to know who Sachin Tendulkar was! Thus, it also caught Indian selector's eye and Sachin Tendulkar was selected for the tour of Pakistan at an age of 16.\""
      ]
     },
     "execution_count": 4,
     "metadata": {},
     "output_type": "execute_result"
    }
   ],
   "source": [
    "# Unicode character x91 and x92 was replaced with “‘” and kept in variable text.\n",
    "\n",
    "text=text.replace(\"\\x91\",\"'\")\n",
    "text=text.replace(\"\\x92\",\"'\")\n",
    "text"
   ]
  },
  {
   "cell_type": "code",
   "execution_count": 5,
   "id": "7d1575f4",
   "metadata": {},
   "outputs": [
    {
     "data": {
      "text/plain": [
       "1078"
      ]
     },
     "execution_count": 5,
     "metadata": {},
     "output_type": "execute_result"
    }
   ],
   "source": [
    "#The length of the whole text document\n",
    "\n",
    "len(text)"
   ]
  },
  {
   "cell_type": "code",
   "execution_count": 6,
   "id": "e8bf97bf",
   "metadata": {},
   "outputs": [
    {
     "name": "stdout",
     "output_type": "stream",
     "text": [
      "The number of words in the given text is : 188\n"
     ]
    }
   ],
   "source": [
    "#Number of words in the string\n",
    "\n",
    "f=len(text.split())\n",
    "print (\"The number of words in the given text is : \" +  str(f))"
   ]
  },
  {
   "cell_type": "code",
   "execution_count": 7,
   "id": "00032a4c",
   "metadata": {},
   "outputs": [],
   "source": [
    "import spacy\n",
    "from spacy.lang.en.stop_words import STOP_WORDS\n",
    "from string import punctuation"
   ]
  },
  {
   "cell_type": "code",
   "execution_count": 8,
   "id": "a2c2f2cf",
   "metadata": {},
   "outputs": [],
   "source": [
    "nlp= spacy.load(\"en_core_web_sm\")"
   ]
  },
  {
   "cell_type": "code",
   "execution_count": 9,
   "id": "1e2cb393",
   "metadata": {},
   "outputs": [],
   "source": [
    "doc=nlp(text)"
   ]
  },
  {
   "cell_type": "code",
   "execution_count": 10,
   "id": "0bf75cca",
   "metadata": {},
   "outputs": [
    {
     "name": "stdout",
     "output_type": "stream",
     "text": [
      "['We', 'have', 'often', 'heard', 'that', \"'\", 'Cricket', 'is', 'religion', 'in', 'India', 'and', 'Sachin', 'is', 'God', \"'\", '.', 'There', 'is', 'no', 'better', 'statement', 'that', 'can', 'justify', 'the', 'status', 'of', 'Sachin', 'Tendulkar', 'in', 'India', '.', 'Sachin', 'Tendulkar', 'in', 'India', 'is', 'not', 'just', 'a', 'cricketer', ',', 'he', 'is', 'God', '.', 'Also', 'for', 'common', 'people', 'in', 'India', ',', 'he', 'is', 'an', 'example', 'of', 'hard', 'work', 'and', 'determination', '.', 'Thus', ',', 'he', 'is', 'worshipped', 'by', 'everyone', 'in', 'India', '.', 'The', 'essay', 'on', 'Sachin', 'Tendulkar', 'is', 'a', 'small', 'insight', 'into', 'one', 'of', 'the', 'greatest', 'ever', 'sportsman', 'to', 'have', 'played', 'any', 'game', '.', 'Sachin', 'Tendulkar', 'was', 'born', 'to', 'a', 'middle', '-', 'class', 'family', 'and', 'came', 'to', 'limelight', 'with', 'a', 'performance', 'in', 'the', 'school', 'tournament', '.', 'He', 'held', 'a', 'record', 'partnership', 'at', 'that', 'time', 'with', 'Vinod', 'Kambli', 'playing', 'for', 'their', 'school', 'tournament', '.', 'That', 'innings', 'changed', 'Sachin', \"'s\", 'life', 'completely', 'and', 'he', 'became', 'famous', 'in', 'a', 'fortnight', '.', 'In', 'those', 'days', ',', 'the', 'school', 'tournaments', 'had', 'a', 'different', 'fanbase', 'and', 'a', 'good', 'performance', 'can', 'bring', 'you', 'in', 'limelight', '.', 'Because', 'of', 'that', 'inning', ',', 'people', 'all', 'over', 'India', 'came', 'to', 'know', 'who', 'Sachin', 'Tendulkar', 'was', '!', 'Thus', ',', 'it', 'also', 'caught', 'Indian', 'selector', \"'s\", 'eye', 'and', 'Sachin', 'Tendulkar', 'was', 'selected', 'for', 'the', 'tour', 'of', 'Pakistan', 'at', 'an', 'age', 'of', '16', '.']\n"
     ]
    }
   ],
   "source": [
    "#Iterate over every single token using list comprehension and these are the tokens to be worked upon.\n",
    "tokens=[token.text for token in doc]\n",
    "print(tokens)"
   ]
  },
  {
   "cell_type": "code",
   "execution_count": 11,
   "id": "f71a05af",
   "metadata": {},
   "outputs": [],
   "source": [
    "word_freq={}\n",
    "stop_words= list(STOP_WORDS)"
   ]
  },
  {
   "cell_type": "code",
   "execution_count": 12,
   "id": "062df2c8",
   "metadata": {},
   "outputs": [
    {
     "name": "stdout",
     "output_type": "stream",
     "text": [
      "{'heard': 1, 'Cricket': 1, 'religion': 1, 'India': 6, 'Sachin': 8, 'God': 2, 'better': 1, 'statement': 1, 'justify': 1, 'status': 1, 'Tendulkar': 6, 'cricketer': 1, 'common': 1, 'people': 2, 'example': 1, 'hard': 1, 'work': 1, 'determination': 1, 'worshipped': 1, 'essay': 1, 'small': 1, 'insight': 1, 'greatest': 1, 'sportsman': 1, 'played': 1, 'game': 1, 'born': 1, 'middle': 1, 'class': 1, 'family': 1, 'came': 2, 'limelight': 2, 'performance': 2, 'school': 3, 'tournament': 2, 'held': 1, 'record': 1, 'partnership': 1, 'time': 1, 'Vinod': 1, 'Kambli': 1, 'playing': 1, 'innings': 1, 'changed': 1, 'life': 1, 'completely': 1, 'famous': 1, 'fortnight': 1, 'days': 1, 'tournaments': 1, 'different': 1, 'fanbase': 1, 'good': 1, 'bring': 1, 'inning': 1, 'know': 1, 'caught': 1, 'Indian': 1, 'selector': 1, 'eye': 1, 'selected': 1, 'tour': 1, 'Pakistan': 1, 'age': 1, '16': 1}\n"
     ]
    }
   ],
   "source": [
    "for word in doc:\n",
    "    if word.text.lower() not in stop_words:\n",
    "        if word.text.lower() not in punctuation:\n",
    "            if word.text not in word_freq.keys():\n",
    "                word_freq[word.text]= 1\n",
    "            else:\n",
    "                word_freq[word.text]+= 1 \n",
    "print(word_freq)"
   ]
  },
  {
   "cell_type": "code",
   "execution_count": 13,
   "id": "ac81fdda",
   "metadata": {},
   "outputs": [
    {
     "data": {
      "text/plain": [
       "8"
      ]
     },
     "execution_count": 13,
     "metadata": {},
     "output_type": "execute_result"
    }
   ],
   "source": [
    "#The maximum no of times a word appear has been figured out stored in variable max_freq.\n",
    "\n",
    "x=(word_freq.values())\n",
    "a=list(x)\n",
    "a.sort()\n",
    "max_freq=a[-1]\n",
    "max_freq\n"
   ]
  },
  {
   "cell_type": "code",
   "execution_count": 14,
   "id": "c067f752",
   "metadata": {},
   "outputs": [
    {
     "name": "stdout",
     "output_type": "stream",
     "text": [
      "{'heard': 0.125, 'Cricket': 0.125, 'religion': 0.125, 'India': 0.75, 'Sachin': 1.0, 'God': 0.25, 'better': 0.125, 'statement': 0.125, 'justify': 0.125, 'status': 0.125, 'Tendulkar': 0.75, 'cricketer': 0.125, 'common': 0.125, 'people': 0.25, 'example': 0.125, 'hard': 0.125, 'work': 0.125, 'determination': 0.125, 'worshipped': 0.125, 'essay': 0.125, 'small': 0.125, 'insight': 0.125, 'greatest': 0.125, 'sportsman': 0.125, 'played': 0.125, 'game': 0.125, 'born': 0.125, 'middle': 0.125, 'class': 0.125, 'family': 0.125, 'came': 0.25, 'limelight': 0.25, 'performance': 0.25, 'school': 0.375, 'tournament': 0.25, 'held': 0.125, 'record': 0.125, 'partnership': 0.125, 'time': 0.125, 'Vinod': 0.125, 'Kambli': 0.125, 'playing': 0.125, 'innings': 0.125, 'changed': 0.125, 'life': 0.125, 'completely': 0.125, 'famous': 0.125, 'fortnight': 0.125, 'days': 0.125, 'tournaments': 0.125, 'different': 0.125, 'fanbase': 0.125, 'good': 0.125, 'bring': 0.125, 'inning': 0.125, 'know': 0.125, 'caught': 0.125, 'Indian': 0.125, 'selector': 0.125, 'eye': 0.125, 'selected': 0.125, 'tour': 0.125, 'Pakistan': 0.125, 'age': 0.125, '16': 0.125}\n"
     ]
    }
   ],
   "source": [
    "#Sentence Tokenization-Normalization\n",
    "\n",
    "for word in word_freq.keys():\n",
    "    word_freq[word]=word_freq[word]/max_freq \n",
    "print(word_freq)"
   ]
  },
  {
   "cell_type": "code",
   "execution_count": 15,
   "id": "4707f367",
   "metadata": {},
   "outputs": [
    {
     "name": "stdout",
     "output_type": "stream",
     "text": [
      "[We have often heard that 'Cricket is religion in India and Sachin is God'., There is no better statement that can justify the status of Sachin Tendulkar in India., Sachin Tendulkar in India is not just a cricketer, he is God., Also for common people in India, he is an example of hard work and determination., Thus, he is worshipped by everyone in India., The essay on Sachin Tendulkar is a small insight into one of the greatest ever sportsman to have played any game., Sachin Tendulkar was born to a middle-class family and came to limelight with a performance in the school tournament., He held a record partnership at that time with Vinod Kambli playing for their school tournament., That innings changed Sachin's life completely and he became famous in a fortnight., In those days, the school tournaments had a different fanbase and a good performance can bring you in limelight., Because of that inning, people all over India came to know who Sachin Tendulkar was!, Thus, it also caught Indian selector's eye and Sachin Tendulkar was selected for the tour of Pakistan at an age of 16.]\n"
     ]
    }
   ],
   "source": [
    "#Sentences in doc objects have been segmented by using the list comprehension method and kept in variable sent_tokens.\n",
    "#Sentences as lists\n",
    "sent_score={}\n",
    "sent_tokens=[sent for sent in doc.sents]\n",
    "print(sent_tokens)"
   ]
  },
  {
   "cell_type": "code",
   "execution_count": 16,
   "id": "e85645e4",
   "metadata": {},
   "outputs": [
    {
     "name": "stdout",
     "output_type": "stream",
     "text": [
      "{We have often heard that 'Cricket is religion in India and Sachin is God'.: 0.25, There is no better statement that can justify the status of Sachin Tendulkar in India.: 0.5, Sachin Tendulkar in India is not just a cricketer, he is God.: 0.125, Also for common people in India, he is an example of hard work and determination.: 0.875, Thus, he is worshipped by everyone in India.: 0.125, The essay on Sachin Tendulkar is a small insight into one of the greatest ever sportsman to have played any game.: 0.875, Sachin Tendulkar was born to a middle-class family and came to limelight with a performance in the school tournament.: 1.875, He held a record partnership at that time with Vinod Kambli playing for their school tournament.: 1.25, That innings changed Sachin's life completely and he became famous in a fortnight.: 0.75, In those days, the school tournaments had a different fanbase and a good performance can bring you in limelight.: 1.625, Because of that inning, people all over India came to know who Sachin Tendulkar was!: 0.75, Thus, it also caught Indian selector's eye and Sachin Tendulkar was selected for the tour of Pakistan at an age of 16.: 0.875}\n"
     ]
    }
   ],
   "source": [
    "#A score of each individual sentence has been found out based on the word_freq counter.\n",
    "#An empty dictionary sent_score has been created which will hold each sentence as a key and its value as a score. \n",
    "#A loop was iterated on each individual sentence and it was checked the words in those sentences if appear in word_freq\n",
    "# dictionary and then based on the score of a word in word_freq dictionary sent_score has been determined.\n",
    "\n",
    "for sent in sent_tokens:\n",
    "    for word in sent:\n",
    "        if word.text.lower() in word_freq.keys():\n",
    "            if sent not in sent_score.keys(): # \n",
    "                sent_score[sent]=word_freq[word.text.lower()]\n",
    "            else:\n",
    "                sent_score[sent]+= word_freq[word.text.lower()] \n",
    "print(sent_score)\n",
    "\n",
    "\n"
   ]
  },
  {
   "cell_type": "code",
   "execution_count": 17,
   "id": "162326fc",
   "metadata": {},
   "outputs": [
    {
     "data": {
      "text/plain": [
       "3.5999999999999996"
      ]
     },
     "execution_count": 17,
     "metadata": {},
     "output_type": "execute_result"
    }
   ],
   "source": [
    "from heapq import nlargest\n",
    "len(sent_score) *0.3"
   ]
  },
  {
   "cell_type": "code",
   "execution_count": 18,
   "id": "3706a694",
   "metadata": {},
   "outputs": [
    {
     "name": "stdout",
     "output_type": "stream",
     "text": [
      "[Sachin Tendulkar was born to a middle-class family and came to limelight with a performance in the school tournament., In those days, the school tournaments had a different fanbase and a good performance can bring you in limelight., He held a record partnership at that time with Vinod Kambli playing for their school tournament., Also for common people in India, he is an example of hard work and determination.]\n"
     ]
    }
   ],
   "source": [
    "summary=nlargest(n=4,iterable=sent_score,key=sent_score.get) \n",
    "print(summary)"
   ]
  },
  {
   "cell_type": "code",
   "execution_count": null,
   "id": "5d2e3767",
   "metadata": {},
   "outputs": [],
   "source": []
  }
 ],
 "metadata": {
  "kernelspec": {
   "display_name": "Python 3 (ipykernel)",
   "language": "python",
   "name": "python3"
  },
  "language_info": {
   "codemirror_mode": {
    "name": "ipython",
    "version": 3
   },
   "file_extension": ".py",
   "mimetype": "text/x-python",
   "name": "python",
   "nbconvert_exporter": "python",
   "pygments_lexer": "ipython3",
   "version": "3.9.7"
  }
 },
 "nbformat": 4,
 "nbformat_minor": 5
}
