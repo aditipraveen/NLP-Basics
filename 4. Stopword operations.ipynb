{
 "cells": [
  {
   "cell_type": "code",
   "execution_count": 1,
   "id": "7d06df92",
   "metadata": {},
   "outputs": [
    {
     "data": {
      "text/html": [
       "<div>\n",
       "<style scoped>\n",
       "    .dataframe tbody tr th:only-of-type {\n",
       "        vertical-align: middle;\n",
       "    }\n",
       "\n",
       "    .dataframe tbody tr th {\n",
       "        vertical-align: top;\n",
       "    }\n",
       "\n",
       "    .dataframe thead th {\n",
       "        text-align: right;\n",
       "    }\n",
       "</style>\n",
       "<table border=\"1\" class=\"dataframe\">\n",
       "  <thead>\n",
       "    <tr style=\"text-align: right;\">\n",
       "      <th></th>\n",
       "      <th>text</th>\n",
       "      <th>spam</th>\n",
       "    </tr>\n",
       "  </thead>\n",
       "  <tbody>\n",
       "    <tr>\n",
       "      <th>0</th>\n",
       "      <td>Subject: naturally it's your irresistible your...</td>\n",
       "      <td>1</td>\n",
       "    </tr>\n",
       "    <tr>\n",
       "      <th>1</th>\n",
       "      <td>Subject: the stock trading gunslinger  fanny i...</td>\n",
       "      <td>1</td>\n",
       "    </tr>\n",
       "    <tr>\n",
       "      <th>2</th>\n",
       "      <td>Subject: unbelievable new homes made easy  im ...</td>\n",
       "      <td>1</td>\n",
       "    </tr>\n",
       "    <tr>\n",
       "      <th>3</th>\n",
       "      <td>Subject: 4 color printing special  request add...</td>\n",
       "      <td>1</td>\n",
       "    </tr>\n",
       "    <tr>\n",
       "      <th>4</th>\n",
       "      <td>Subject: do not have money , get software cds ...</td>\n",
       "      <td>1</td>\n",
       "    </tr>\n",
       "  </tbody>\n",
       "</table>\n",
       "</div>"
      ],
      "text/plain": [
       "                                                text spam\n",
       "0  Subject: naturally it's your irresistible your...    1\n",
       "1  Subject: the stock trading gunslinger  fanny i...    1\n",
       "2  Subject: unbelievable new homes made easy  im ...    1\n",
       "3  Subject: 4 color printing special  request add...    1\n",
       "4  Subject: do not have money , get software cds ...    1"
      ]
     },
     "execution_count": 1,
     "metadata": {},
     "output_type": "execute_result"
    }
   ],
   "source": [
    "import pandas as pd\n",
    "data = pd.read_csv(\"emails.csv\", usecols = ['text', 'spam'])\n",
    "data.head()"
   ]
  },
  {
   "cell_type": "code",
   "execution_count": 2,
   "id": "7f8972cb",
   "metadata": {},
   "outputs": [
    {
     "name": "stdout",
     "output_type": "stream",
     "text": [
      "{'onto', 'down', 'seemed', 'off', 'very', \"'ve\", 'fifteen', 'n‘t', 'yourselves', 'whole', 'with', 'had', 'somewhere', 'most', 'because', 'upon', 'that', 'already', 'could', 'thereby', 'often', 'quite', 'third', 'whence', 'in', 'everything', 'these', 'without', '‘m', 'whoever', 'formerly', 'another', 'besides', 'go', 'whereupon', 'herself', 'whenever', 'latterly', 'not', 'move', 'becoming', 'me', 'which', 'behind', 'mostly', 'fifty', 'itself', 're', 'bottom', 'too', 'around', '’ll', 'make', 'therein', 'n’t', 'keep', 'the', 'she', 'this', 'nevertheless', 'our', 'though', 'rather', 'former', 'cannot', 'herein', 'two', 'although', 'nine', 'am', 'top', 'anyhow', 'every', 'across', 'further', 'we', 'after', 'out', 'anyway', 'before', 'being', 'whereas', 'for', 'five', 'same', 'myself', 'everyone', 'put', 'yet', 'back', 'hereupon', 'more', 'under', 'name', 'by', 'against', 'last', 'side', 'unless', 'noone', 'an', 'towards', 'will', 'if', 'were', 'done', 'full', 'several', 'various', 'a', 'always', 'namely', 'during', 'each', 'its', 'twelve', 'become', 'three', 'whither', \"n't\", 'really', 'otherwise', 'such', 'does', 'however', 'then', 'front', 'throughout', 'mine', 'yours', 'seems', 'can', 'below', 'of', 'well', 'thus', 'to', 'meanwhile', 'do', 'either', 'only', 'enough', 'they', 'since', 'regarding', 'hereby', 'should', 'due', '‘ll', 'even', 'now', 'almost', 'into', 'them', 'hers', 'ever', 'few', 'whether', 'ca', 'over', \"'ll\", 'beyond', \"'d\", 'hundred', 'many', 'elsewhere', 'ours', 'whereafter', 'so', '‘ve', 'within', 'her', 'somehow', 'might', 'nothing', '’d', '’re', 'your', 'something', 'i', 'while', 'ourselves', 'himself', 'when', 'who', 'as', 'would', 'him', 'first', 'per', 'whereby', 'afterwards', 'neither', 'others', 'own', 'give', 'you', '’m', 'but', 'much', 'seeming', \"'re\", \"'s\", 'are', 'about', 'other', 'be', 'amongst', 'must', 'sometime', 'all', 'and', 'next', 'six', 'their', 'nobody', 'wherever', 'may', 'why', 'serious', 'eight', 'where', 'along', 'less', 'indeed', 'did', 'using', 'yourself', 'else', 'once', 'has', 'up', '’s', 'twenty', 'hereafter', 'he', 'above', 'been', 'thence', 'therefore', 'my', 'thru', 'here', 'was', 'show', 'made', 'forty', 'again', 'take', 'used', 'say', 'wherein', 'until', 'latter', 'never', 'anyone', 'what', 'those', 'get', 'sixty', '‘re', 'call', 'part', 'still', 'eleven', 'beside', 'see', 'both', 'his', '‘d', 'or', 'someone', '’ve', 'except', 'toward', 'becomes', 'nowhere', 'themselves', 'amount', 'empty', 'whatever', 'beforehand', 'ten', 'us', 'whom', 'four', '‘s', 'than', 'thereupon', 'together', 'there', 'sometimes', 'through', 'among', 'seem', 'is', 'alone', 'perhaps', 'just', 'everywhere', 'no', 'thereafter', 'on', 'some', 'any', 'via', 'between', 'hence', 'anywhere', 'at', 'also', 'it', 'one', 'doing', 'have', 'how', 'from', \"'m\", 'became', 'none', 'moreover', 'anything', 'please', 'nor', 'whose', 'least'} \n",
      "\n",
      "{'onto', 'down', 'seemed', 'off', 'very', \"'ve\", 'fifteen', 'n‘t', 'yourselves', 'whole', 'with', 'had', 'somewhere', 'most', 'because', 'upon', 'that', 'already', 'could', 'thereby', 'often', 'quite', 'third', 'whence', 'in', 'everything', 'these', 'without', '‘m', 'whoever', 'formerly', 'another', 'besides', 'go', 'whereupon', 'herself', 'whenever', 'latterly', 'not', 'move', 'becoming', 'me', 'which', 'behind', 'mostly', 'fifty', 'itself', 're', 'bottom', 'too', 'around', '’ll', 'make', 'therein', 'n’t', 'keep', 'the', 'she', 'this', 'nevertheless', 'our', 'though', 'rather', 'former', 'cannot', 'herein', 'two', 'although', 'nine', 'am', 'top', 'anyhow', 'every', 'across', 'further', 'we', 'after', 'out', 'anyway', 'before', 'being', 'whereas', 'for', 'five', 'same', 'myself', 'everyone', 'put', 'yet', 'back', 'hereupon', 'more', 'under', 'name', 'by', 'against', 'last', 'side', 'unless', 'noone', 'an', 'towards', 'will', 'if', 'were', 'done', 'full', 'several', 'various', 'a', 'always', 'namely', 'during', 'each', 'its', 'twelve', 'become', 'three', 'whither', \"n't\", 'really', 'otherwise', 'such', 'does', 'however', 'then', 'front', 'throughout', 'mine', 'yours', 'seems', 'can', 'below', 'of', 'well', 'thus', 'meanwhile', 'do', 'either', 'only', 'enough', 'they', 'since', 'regarding', 'hereby', 'should', 'due', '‘ll', 'even', 'now', 'almost', 'into', 'them', 'hers', 'ever', 'few', 'whether', 'ca', 'over', \"'ll\", 'beyond', \"'d\", 'hundred', 'many', 'elsewhere', 'ours', 'whereafter', 'so', '‘ve', 'within', 'her', 'somehow', 'might', 'nothing', '’d', '’re', 'your', 'something', 'i', 'while', 'ourselves', 'himself', 'when', 'who', 'as', 'would', 'him', 'first', 'per', 'whereby', 'afterwards', 'neither', 'others', 'own', 'give', 'you', '’m', 'but', 'much', 'seeming', \"'re\", \"'s\", 'are', 'about', 'other', 'be', 'amongst', 'must', 'sometime', 'all', 'and', 'next', 'six', 'their', 'nobody', 'wherever', 'may', 'why', 'serious', 'eight', 'where', 'along', 'less', 'indeed', 'did', 'using', 'yourself', 'else', 'once', 'has', 'up', '’s', 'twenty', 'hereafter', 'he', 'above', 'been', 'thence', 'therefore', 'my', 'thru', 'here', 'was', 'show', 'made', 'forty', 'again', 'take', 'used', 'say', 'wherein', 'until', 'latter', 'never', 'anyone', 'what', 'those', 'get', 'sixty', '‘re', 'call', 'part', 'still', 'eleven', 'beside', 'see', 'both', 'his', '‘d', 'or', 'someone', '’ve', 'except', 'toward', 'becomes', 'nowhere', 'themselves', 'amount', 'empty', 'whatever', 'beforehand', 'ten', 'us', 'whom', 'four', '‘s', 'than', 'thereupon', 'together', 'there', 'sometimes', 'through', 'among', 'seem', 'is', 'alone', 'perhaps', 'just', 'everywhere', 'no', 'thereafter', 'on', 'some', 'any', 'via', 'between', 'hence', 'anywhere', 'at', 'also', 'it', 'one', 'doing', 'have', 'how', 'from', \"'m\", 'became', 'none', 'moreover', 'anything', 'please', 'nor', 'whose', 'least'} \n",
      "\n",
      "{'onto', 'down', 'seemed', 'off', 'very', \"'ve\", 'fifteen', 'n‘t', 'yourselves', 'whole', 'with', 'had', 'somewhere', 'most', 'because', 'upon', 'that', 'already', 'could', 'thereby', 'often', 'quite', 'third', 'whence', 'in', 'everything', 'these', 'without', '‘m', 'whoever', 'formerly', 'another', 'besides', 'go', 'whereupon', 'herself', 'whenever', 'latterly', 'not', 'move', 'becoming', 'me', 'which', 'behind', 'mostly', 'fifty', 'itself', 're', 'bottom', 'too', 'around', '’ll', 'make', 'therein', 'n’t', 'keep', 'the', 'she', 'this', 'nevertheless', 'our', 'though', 'rather', 'former', 'cannot', 'herein', 'two', 'although', 'nine', 'am', 'top', 'anyhow', 'every', 'across', 'further', 'we', 'after', 'out', 'anyway', 'before', 'being', 'whereas', 'for', 'five', 'same', 'myself', 'everyone', 'put', 'yet', 'back', 'hereupon', 'more', 'under', 'name', 'by', 'against', 'last', 'side', 'unless', 'noone', 'an', 'towards', 'will', 'if', 'were', 'done', 'full', 'several', 'various', 'a', 'always', 'namely', 'during', 'each', 'its', 'twelve', 'become', 'three', 'whither', \"n't\", 'really', 'otherwise', 'such', 'does', 'however', 'then', 'front', 'throughout', 'mine', 'yours', 'seems', 'can', 'below', 'of', 'well', 'thus', 'meanwhile', 'do', 'either', 'only', 'enough', 'they', 'since', 'regarding', 'hereby', 'should', 'due', '‘ll', 'even', 'now', 'almost', 'into', 'them', 'hers', 'ever', 'few', 'whether', 'ca', 'over', \"'ll\", 'beyond', \"'d\", 'hundred', 'many', 'elsewhere', 'ours', 'whereafter', 'so', '‘ve', 'within', 'her', 'somehow', 'might', 'nothing', '’d', '’re', 'your', 'something', 'i', 'while', 'ourselves', 'himself', 'when', 'who', 'as', 'would', 'him', 'first', 'per', 'whereby', 'afterwards', 'neither', 'others', 'own', 'give', 'you', '’m', 'but', 'much', 'seeming', \"'re\", \"'s\", 'are', 'about', 'other', 'be', 'amongst', 'must', 'sometime', 'all', 'and', 'next', 'six', 'their', 'nobody', 'wherever', 'may', 'why', 'serious', 'eight', 'where', 'along', 'less', 'indeed', 'did', 'using', 'yourself', 'else', 'once', 'has', 'up', '’s', 'twenty', 'naturally', 'hereafter', 'he', 'above', 'been', 'thence', 'therefore', 'my', 'thru', 'here', 'was', 'show', 'made', 'forty', 'again', 'take', 'used', 'say', 'wherein', 'until', 'latter', 'never', 'anyone', 'what', 'those', 'get', 'sixty', '‘re', 'call', 'part', 'still', 'eleven', 'beside', 'see', 'both', 'his', '‘d', 'or', 'someone', '’ve', 'except', 'toward', 'becomes', 'nowhere', 'themselves', 'amount', 'empty', 'whatever', 'beforehand', 'ten', 'us', 'whom', 'four', '‘s', 'than', 'thereupon', 'together', 'there', 'sometimes', 'through', 'among', 'seem', 'is', 'alone', 'perhaps', 'just', 'everywhere', 'no', 'thereafter', 'on', 'some', 'any', 'via', 'between', 'hence', 'anywhere', 'at', 'also', 'it', 'one', 'doing', 'have', 'how', 'from', \"'m\", 'became', 'none', 'moreover', 'anything', 'please', 'nor', 'whose', 'least'} \n",
      "\n"
     ]
    }
   ],
   "source": [
    "# Using Spacy\n",
    "\n",
    "import spacy\n",
    "nlp = spacy.load(\"en_core_web_sm\")\n",
    "\n",
    "#Display\n",
    "stop_words = nlp.Defaults.stop_words\n",
    "print(stop_words, \"\\n\")\n",
    "\n",
    "# remove\n",
    "stop_words.remove('to')\n",
    "print(stop_words, \"\\n\")\n",
    "\n",
    "# add\n",
    "nlp.Defaults.stop_words.add('naturally')\n",
    "print(stop_words, \"\\n\")\n"
   ]
  },
  {
   "cell_type": "code",
   "execution_count": 3,
   "id": "ce40e65d",
   "metadata": {},
   "outputs": [
    {
     "name": "stdout",
     "output_type": "stream",
     "text": [
      "['Subject', ':', 'naturally', 'it', \"'s\", 'your', 'irresistible', 'your', 'corporate', 'identity', ' ', 'lt', 'is', 'really', 'hard', 'to', 'recollect', 'a', 'company', ':', 'the', ' ', 'market', 'is', 'full', 'of', 'suqgestions', 'and', 'the', 'information', 'isoverwhelminq', ';', 'but', 'a', 'good', ' ', 'catchy', 'logo', ',', 'stylish', 'statlonery', 'and', 'outstanding', 'website', ' ', 'will', 'make', 'the', 'task', 'much', 'easier', '.', ' ', 'we', 'do', \"n't\", 'promise', 'that', 'havinq', 'ordered', 'a', 'iogo', 'your', ' ', 'company', 'will', 'automaticaily', 'become', 'a', 'world', 'ieader', ':', 'it', 'isguite', 'ciear', 'that', ' ', 'without', 'good', 'products', ',', 'effective', 'business', 'organization', 'and', 'practicable', 'aim', 'it', ' ', 'will', 'be', 'hotat', 'nowadays', 'market', ';', 'but', 'we', 'do', 'promise', 'that', 'your', 'marketing', 'efforts', ' ', 'will', 'become', 'much', 'more', 'effective', '.', 'here', 'is', 'the', 'list', 'of', 'clear', ' ', 'benefits', ':', 'creativeness', ':', 'hand', '-', 'made', ',', 'original', 'logos', ',', 'specially', 'done', ' ', 'to', 'reflect', 'your', 'distinctive', 'company', 'image', '.', 'convenience', ':', 'logo', 'and', 'stationery', ' ', 'are', 'provided', 'in', 'all', 'formats', ';', 'easy', '-', 'to', '-', 'use', 'content', 'management', 'system', 'letsyou', ' ', 'change', 'your', 'website', 'content', 'and', 'even', 'its', 'structure', '.', 'promptness', ':', 'you', \"'ll\", 'see', 'logo', 'drafts', 'within', 'three', 'business', 'days', '.', 'affordability', ':', 'your', ' ', 'marketing', 'break', '-', 'through', 'should', \"n't\", 'make', 'gaps', 'in', 'your', 'budget', '.', '100', '%', 'satisfaction', ' ', 'guaranteed', ':', 'we', 'provide', 'unlimited', 'amount', 'of', 'changes', 'with', 'no', 'extra', 'fees', 'for', 'you', 'to', ' ', 'be', 'surethat', 'you', 'will', 'love', 'the', 'result', 'of', 'this', 'collaboration', '.', 'have', 'a', 'look', 'at', 'our', ' ', 'portfolio', '_', '_', '_', '_', '_', '_', '_', '_', '_', '_', '_', '_', '_', '_', '_', '_', '_', '_', '_', '_', '_', '_', '_', '_', '_', '_', '_', '_', '_', '_', '_', '_', '_', '_', '_', '_', '_', '_', '_', '_', '_', '_', '_', '_', '_', '_', '_', '_', '_', '_', '_', '_', 'not', 'interested', '.', '.', '.', '_', '_', '_', '_', '_', '_', '_', '_', '_', '_', '_', '_', '_', '_', '_', '_', '_', '_', '_', '_', '_', '_', '_', '_', '_', '_', '_', '_', '_', '_', '_', '_', '_', '_', '_', '_', '_', '_', '_', '_', '_', '_', '_', '_', '_', '_', '_', '_', '_', '_', '_', '_'] \n",
      "\n",
      "['Subject', ':', 'irresistible', 'corporate', 'identity', ' ', 'lt', 'hard', 'to', 'recollect', 'company', ':', ' ', 'market', 'suqgestions', 'information', 'isoverwhelminq', ';', 'good', ' ', 'catchy', 'logo', ',', 'stylish', 'statlonery', 'outstanding', 'website', ' ', 'task', 'easier', '.', ' ', 'promise', 'havinq', 'ordered', 'iogo', ' ', 'company', 'automaticaily', 'world', 'ieader', ':', 'isguite', 'ciear', ' ', 'good', 'products', ',', 'effective', 'business', 'organization', 'practicable', 'aim', ' ', 'hotat', 'nowadays', 'market', ';', 'promise', 'marketing', 'efforts', ' ', 'effective', '.', 'list', 'clear', ' ', 'benefits', ':', 'creativeness', ':', 'hand', '-', ',', 'original', 'logos', ',', 'specially', ' ', 'to', 'reflect', 'distinctive', 'company', 'image', '.', 'convenience', ':', 'logo', 'stationery', ' ', 'provided', 'formats', ';', 'easy', '-', 'to', '-', 'use', 'content', 'management', 'system', 'letsyou', ' ', 'change', 'website', 'content', 'structure', '.', 'promptness', ':', 'logo', 'drafts', 'business', 'days', '.', 'affordability', ':', ' ', 'marketing', 'break', '-', 'gaps', 'budget', '.', '100', '%', 'satisfaction', ' ', 'guaranteed', ':', 'provide', 'unlimited', 'changes', 'extra', 'fees', 'to', ' ', 'surethat', 'love', 'result', 'collaboration', '.', 'look', ' ', 'portfolio', '_', '_', '_', '_', '_', '_', '_', '_', '_', '_', '_', '_', '_', '_', '_', '_', '_', '_', '_', '_', '_', '_', '_', '_', '_', '_', '_', '_', '_', '_', '_', '_', '_', '_', '_', '_', '_', '_', '_', '_', '_', '_', '_', '_', '_', '_', '_', '_', '_', '_', '_', '_', 'interested', '.', '.', '.', '_', '_', '_', '_', '_', '_', '_', '_', '_', '_', '_', '_', '_', '_', '_', '_', '_', '_', '_', '_', '_', '_', '_', '_', '_', '_', '_', '_', '_', '_', '_', '_', '_', '_', '_', '_', '_', '_', '_', '_', '_', '_', '_', '_', '_', '_', '_', '_', '_', '_', '_', '_']\n"
     ]
    }
   ],
   "source": [
    "# remove stopwords from text\n",
    "text = data['text'][0] \n",
    "token_list = []\n",
    "doc = nlp(text)\n",
    "token_list = [token.text for token in doc]\n",
    "print(token_list, \"\\n\")\n",
    "\n",
    "filterset = []\n",
    "for token in token_list:\n",
    "    lexeme = nlp.vocab[token]\n",
    "    if lexeme.is_stop == False:\n",
    "        filterset.append(token)\n",
    "print(filterset)"
   ]
  },
  {
   "cell_type": "code",
   "execution_count": 4,
   "id": "e4107271",
   "metadata": {},
   "outputs": [
    {
     "name": "stdout",
     "output_type": "stream",
     "text": [
      "frozenset({'onto', 'don', 'down', 'seemed', 'off', 'very', 'fifteen', 'yourselves', 'whole', 'with', 'had', 'fire', 'somewhere', 'most', 'because', 'upon', 'that', 'already', 'could', 'thereby', 'often', 'quite', 'third', 'de', 'whence', 'describe', 'in', 'everything', 'these', 'without', 'whoever', 'un', 'formerly', 'another', 'besides', 'etc', 'go', 'whereupon', 'herself', 'whenever', 'latterly', 'not', 'move', 'becoming', 'sincere', 'me', 'which', 'behind', 'mostly', 'fifty', 'itself', 'ltd', 'eg', 're', 'bottom', 'too', 'around', 'therein', 'make', 'keep', 'the', 'she', 'this', 'nevertheless', 'our', 'though', 'amoungst', 'rather', 'former', 'cannot', 'herein', 'two', 'although', 'nine', 'top', 'am', 'anyhow', 'every', 'across', 'further', 'we', 'after', 'out', 'anyway', 'before', 'being', 'whereas', 'for', 'five', 'fill', 'same', 'myself', 'everyone', 'put', 'yet', 'back', 'hereupon', 'more', 'under', 'name', 'by', 'against', 'last', 'side', 'unless', 'noone', 'towards', 'an', 'will', 'if', 'were', 'full', 'several', 'done', 'various', 'a', 'always', 'namely', 'during', 'each', 'its', 'twelve', 'become', 'three', 'whither', 'really', 'otherwise', 'such', 'does', 'however', 'then', 'front', 'throughout', 'mine', 'yours', 'seems', 'can', 'below', 'of', 'well', 'thus', 'to', 'meanwhile', 'do', 'either', 'only', 'mill', 'thick', 'enough', 'they', 'since', 'regarding', 'cry', 'hereby', 'should', 'due', 'even', 'now', 'almost', 'into', 'them', 'bill', 'hers', 'ever', 'few', 'whether', 'over', 'beyond', 'hundred', 'many', 'elsewhere', 'ours', 'whereafter', 'so', 'within', 'her', 'somehow', 'might', 'nothing', 'your', 'something', 'i', 'doesn', 'while', 'ourselves', 'himself', 'who', 'when', 'as', 'would', 'him', 'first', 'per', 'whereby', 'afterwards', 'computer', 'neither', 'others', 'own', 'give', 'you', 'but', 'much', 'seeming', 'km', 'are', 'about', 'other', 'be', 'must', 'amongst', 'sometime', 'all', 'and', 'next', 'six', 'their', 'nobody', 'wherever', 'may', 'why', 'serious', 'eight', 'couldnt', 'where', 'along', 'less', 'using', 'indeed', 'did', 'yourself', 'else', 'inc', 'once', 'has', 'up', 'kg', 'twenty', 'hereafter', 'he', 'above', 'been', 'thence', 'therefore', 'my', 'thru', 'here', 'was', 'ie', 'show', 'hasnt', 'made', 'forty', 'again', 'take', 'used', 'say', 'detail', 'wherein', 'until', 'latter', 'never', 'anyone', 'what', 'con', 'those', 'found', 'get', 'sixty', 'call', 'part', 'still', 'eleven', 'beside', 'see', 'his', 'both', 'or', 'someone', 'system', 'except', 'toward', 'becomes', 'nowhere', 'themselves', 'amount', 'whatever', 'empty', 'beforehand', 'ten', 'us', 'whom', 'four', 'than', 'thereupon', 'together', 'thin', 'there', 'sometimes', 'through', 'among', 'seem', 'is', 'alone', 'perhaps', 'just', 'everywhere', 'no', 'thereafter', 'didn', 'on', 'cant', 'some', 'any', 'via', 'between', 'hence', 'anywhere', 'at', 'also', 'interest', 'it', 'one', 'doing', 'have', 'how', 'from', 'co', 'became', 'none', 'moreover', 'find', 'please', 'anything', 'nor', 'whose', 'least'}) \n",
      "\n",
      "\n",
      "frozenset({'whether', 'onto', 'don', 'down', 'seemed', 'off', 'very', 'over', 'fifteen', 'beyond', 'hundred', 'yourselves', 'many', 'whole', 'elsewhere', 'with', 'had', 'fire', 'somewhere', 'ours', 'most', 'because', 'upon', 'that', 'already', 'whereafter', 'so', 'within', 'her', 'somehow', 'might', 'could', 'thereby', 'nothing', 'often', 'quite', 'your', 'something', 'i', 'third', 'doesn', 'de', 'whence', 'while', 'ourselves', 'describe', 'in', 'himself', 'who', 'when', 'as', 'would', 'him', 'first', 'per', 'company', 'everything', 'these', 'without', 'whereby', 'afterwards', 'computer', 'neither', 'others', 'whoever', 'un', 'formerly', 'another', 'besides', 'etc', 'go', 'whereupon', 'own', 'herself', 'whenever', 'give', 'latterly', 'you', 'but', 'much', 'seeming', 'not', 'move', 'km', 'becoming', 'sincere', 'me', 'which', 'behind', 'are', 'mostly', 'fifty', 'about', 'other', 'be', 'itself', 'must', 'amongst', 'sometime', 'all', 'and', 'next', 'six', 'their', 'nobody', 'ltd', 'wherever', 'may', 'eg', 'why', 're', 'bottom', 'too', 'around', 'serious', 'eight', 'couldnt', 'therein', 'make', 'where', 'keep', 'along', 'the', 'she', 'less', 'using', 'indeed', 'did', 'yourself', 'else', 'this', 'nevertheless', 'our', 'though', 'amoungst', 'inc', 'once', 'rather', 'has', 'former', 'up', 'kg', 'twenty', 'naturally', 'cannot', 'hereafter', 'he', 'herein', 'two', 'above', 'been', 'thence', 'therefore', 'although', 'nine', 'my', 'thru', 'top', 'am', 'here', 'was', 'ie', 'anyhow', 'show', 'hasnt', 'every', 'across', 'further', 'made', 'forty', 'again', 'take', 'we', 'used', 'after', 'say', 'out', 'anyway', 'detail', 'before', 'being', 'whereas', 'for', 'wherein', 'until', 'five', 'fill', 'same', 'myself', 'everyone', 'put', 'yet', 'back', 'latter', 'hereupon', 'more', 'never', 'anyone', 'under', 'name', 'by', 'against', 'last', 'what', 'side', 'con', 'those', 'found', 'unless', 'get', 'noone', 'sixty', 'towards', 'an', 'call', 'part', 'still', 'eleven', 'beside', 'see', 'will', 'his', 'both', 'or', 'if', 'someone', 'were', 'system', 'full', 'several', 'done', 'various', 'a', 'except', 'toward', 'becomes', 'nowhere', 'always', 'namely', 'during', 'each', 'themselves', 'its', 'twelve', 'become', 'three', 'amount', 'whatever', 'empty', 'beforehand', 'ten', 'whither', 'us', 'whom', 'four', 'than', 'really', 'thereupon', 'otherwise', 'such', 'does', 'however', 'then', 'together', 'front', 'thin', 'throughout', 'mine', 'yours', 'there', 'sometimes', 'seems', 'can', 'through', 'below', 'of', 'well', 'among', 'seem', 'thus', 'is', 'to', 'alone', 'meanwhile', 'do', 'either', 'only', 'perhaps', 'just', 'mill', 'everywhere', 'thick', 'enough', 'they', 'no', 'thereafter', 'didn', 'since', 'regarding', 'cry', 'on', 'hereby', 'cant', 'some', 'should', 'any', 'via', 'due', 'between', 'hence', 'anywhere', 'even', 'at', 'also', 'interest', 'now', 'it', 'one', 'almost', 'into', 'them', 'doing', 'have', 'how', 'bill', 'from', 'hers', 'co', 'ever', 'became', 'none', 'few', 'moreover', 'find', 'please', 'anything', 'nor', 'whose', 'least'}) \n",
      "\n",
      "\n",
      "frozenset({'whether', 'onto', 'don', 'down', 'seemed', 'off', 'very', 'over', 'fifteen', 'beyond', 'hundred', 'yourselves', 'many', 'whole', 'elsewhere', 'with', 'had', 'fire', 'somewhere', 'ours', 'most', 'because', 'upon', 'that', 'already', 'whereafter', 'so', 'within', 'her', 'somehow', 'might', 'could', 'thereby', 'nothing', 'often', 'quite', 'your', 'something', 'i', 'third', 'doesn', 'de', 'whence', 'while', 'ourselves', 'describe', 'in', 'himself', 'who', 'when', 'as', 'would', 'him', 'first', 'per', 'everything', 'these', 'without', 'whereby', 'afterwards', 'computer', 'neither', 'others', 'whoever', 'un', 'formerly', 'another', 'besides', 'etc', 'go', 'whereupon', 'own', 'herself', 'whenever', 'give', 'latterly', 'you', 'but', 'much', 'seeming', 'not', 'move', 'km', 'becoming', 'sincere', 'me', 'which', 'behind', 'are', 'mostly', 'fifty', 'about', 'other', 'be', 'itself', 'must', 'amongst', 'sometime', 'all', 'and', 'next', 'six', 'their', 'nobody', 'ltd', 'wherever', 'may', 'eg', 'why', 're', 'bottom', 'too', 'around', 'serious', 'eight', 'couldnt', 'therein', 'make', 'where', 'keep', 'along', 'the', 'she', 'less', 'using', 'indeed', 'did', 'yourself', 'else', 'this', 'nevertheless', 'our', 'though', 'amoungst', 'inc', 'once', 'rather', 'has', 'former', 'up', 'kg', 'twenty', 'cannot', 'hereafter', 'he', 'herein', 'two', 'above', 'been', 'thence', 'therefore', 'although', 'nine', 'my', 'thru', 'top', 'am', 'here', 'was', 'ie', 'anyhow', 'show', 'hasnt', 'every', 'across', 'further', 'made', 'forty', 'again', 'take', 'we', 'used', 'after', 'say', 'out', 'anyway', 'detail', 'before', 'being', 'whereas', 'for', 'wherein', 'until', 'five', 'fill', 'same', 'myself', 'everyone', 'put', 'yet', 'back', 'latter', 'hereupon', 'more', 'never', 'anyone', 'under', 'name', 'by', 'against', 'last', 'what', 'side', 'con', 'those', 'found', 'unless', 'get', 'noone', 'sixty', 'towards', 'an', 'call', 'part', 'still', 'eleven', 'beside', 'see', 'will', 'his', 'both', 'or', 'if', 'someone', 'were', 'system', 'full', 'several', 'done', 'various', 'a', 'except', 'toward', 'becomes', 'nowhere', 'always', 'namely', 'during', 'each', 'themselves', 'its', 'twelve', 'become', 'three', 'amount', 'whatever', 'empty', 'beforehand', 'ten', 'whither', 'us', 'whom', 'four', 'than', 'really', 'thereupon', 'otherwise', 'such', 'does', 'however', 'then', 'together', 'front', 'thin', 'throughout', 'mine', 'yours', 'there', 'sometimes', 'seems', 'can', 'through', 'below', 'of', 'well', 'among', 'seem', 'thus', 'to', 'alone', 'meanwhile', 'do', 'either', 'only', 'perhaps', 'just', 'mill', 'everywhere', 'thick', 'enough', 'they', 'no', 'thereafter', 'didn', 'since', 'regarding', 'cry', 'on', 'hereby', 'cant', 'some', 'should', 'any', 'via', 'due', 'between', 'hence', 'anywhere', 'even', 'at', 'also', 'interest', 'now', 'it', 'one', 'almost', 'into', 'them', 'doing', 'have', 'how', 'bill', 'from', 'hers', 'co', 'ever', 'became', 'none', 'few', 'moreover', 'find', 'please', 'anything', 'nor', 'whose', 'least'}) \n",
      "\n",
      "\n"
     ]
    }
   ],
   "source": [
    "# Using gensim\n",
    "\n",
    "import gensim\n",
    "from gensim.parsing.preprocessing import STOPWORDS\n",
    "\n",
    "#display\n",
    "stopwords = gensim.parsing.preprocessing.STOPWORDS\n",
    "print(stopwords, \"\\n\\n\")\n",
    "\n",
    "# add\n",
    "gs_stopwords = STOPWORDS.union(set(['naturally', 'company']))\n",
    "print(gs_stopwords, \"\\n\\n\")\n",
    "\n",
    "#remove\n",
    "rem = {\"is\"}\n",
    "gs_stop_words = STOPWORDS\n",
    "gs_stop_words = STOPWORDS.difference(rem)\n",
    "print(gs_stop_words, \"\\n\\n\")\n"
   ]
  },
  {
   "cell_type": "code",
   "execution_count": 5,
   "id": "1075237f",
   "metadata": {},
   "outputs": [
    {
     "name": "stdout",
     "output_type": "stream",
     "text": [
      "['Subject', 'naturally', 's', 'irresistible', 'corporate', 'identity', 'lt', 'is', 'hard', 'recollect', 'company', 'market', 'is', 'suqgestions', 'information', 'isoverwhelminq', 'good', 'catchy', 'logo', 'stylish', 'statlonery', 'outstanding', 'website', 'task', 'easier', 't', 'promise', 'havinq', 'ordered', 'iogo', 'company', 'automaticaily', 'world', 'ieader', 'isguite', 'ciear', 'good', 'products', 'effective', 'business', 'organization', 'practicable', 'aim', 'hotat', 'nowadays', 'market', 'promise', 'marketing', 'efforts', 'effective', 'is', 'list', 'clear', 'benefits', 'creativeness', 'hand', 'original', 'logos', 'specially', 'reflect', 'distinctive', 'company', 'image', 'convenience', 'logo', 'stationery', 'provided', 'formats', 'easy', 'use', 'content', 'management', 'letsyou', 'change', 'website', 'content', 'structure', 'promptness', 'll', 'logo', 'drafts', 'business', 'days', 'affordability', 'marketing', 'break', 'shouldn', 't', 'gaps', 'budget', 'satisfaction', 'guaranteed', 'provide', 'unlimited', 'changes', 'extra', 'fees', 'surethat', 'love', 'result', 'collaboration', 'look', 'portfolio', '_', '_', '_', '_', '_', '_', '_', '_', '_', '_', '_', '_', '_', '_', '_', '_', '_', '_', '_', '_', '_', '_', '_', '_', '_', '_', '_', '_', '_', '_', '_', '_', '_', '_', '_', '_', '_', '_', '_', '_', '_', '_', '_', '_', '_', '_', '_', '_', '_', '_', '_', '_', 'interested', '_', '_', '_', '_', '_', '_', '_', '_', '_', '_', '_', '_', '_', '_', '_', '_', '_', '_', '_', '_', '_', '_', '_', '_', '_', '_', '_', '_', '_', '_', '_', '_', '_', '_', '_', '_', '_', '_', '_', '_', '_', '_', '_', '_', '_', '_', '_', '_', '_', '_', '_', '_']\n"
     ]
    }
   ],
   "source": [
    "# remove stopwords from text\n",
    "\n",
    "text = data['text'][0]\n",
    "from gensim.utils import tokenize\n",
    "tk_list = list(tokenize(text))\n",
    "tk = [token for token in tk_list if not token in gs_stop_words]\n",
    "print(tk)"
   ]
  },
  {
   "cell_type": "code",
   "execution_count": 6,
   "id": "55fac0f9",
   "metadata": {},
   "outputs": [
    {
     "name": "stdout",
     "output_type": "stream",
     "text": [
      "{\"she's\", 'we', \"you'll\", 'don', 'o', \"didn't\", 'down', 'off', 'very', 'over', 'after', \"shan't\", 'out', 'yourselves', 'before', 'being', 'with', 'wasn', 'had', 'ours', 'for', 'most', 'until', 'wouldn', 'because', \"shouldn't\", 'mightn', 'same', 'that', 'myself', \"needn't\", 'so', 'her', 'more', \"that'll\", 'under', 'by', 'your', 'against', 'what', 'i', \"weren't\", 'doesn', 'those', \"you've\", \"you'd\", 'while', 'ourselves', 'himself', 'an', 'who', 'in', 'when', 'd', 'as', 'will', 'his', 'both', 'him', 'or', 'if', 'these', 'were', \"isn't\", 'hasn', 'a', 'mustn', \"doesn't\", 'during', 'each', 'needn', 'themselves', \"couldn't\", 'ma', 'its', \"should've\", 'haven', \"it's\", 'own', 'having', 's', 'herself', 'hadn', 'you', 'whom', 'but', 'than', 'not', \"mustn't\", 'such', 'does', 'then', 'me', 'shouldn', 'which', 'are', 'about', 'yours', 'there', 'other', 'be', 'itself', 'm', 'can', 'through', 'all', 'below', 'and', 'of', 'couldn', 'is', 'their', 'to', 'do', 'only', 'just', 'why', 'aren', 're', \"hasn't\", \"won't\", 'they', 'no', 'too', 'll', 'didn', 'on', 'some', \"wasn't\", 'should', 'any', 'y', 'shan', \"wouldn't\", 'between', 'at', 'where', 'the', 'she', 'now', \"mightn't\", 'it', 'yourself', 'did', 'this', \"haven't\", 'our', 'into', 'them', 'have', 'doing', 'once', 'how', 'has', 'up', \"aren't\", 't', 'from', 'hers', 'he', \"hadn't\", 'above', 'won', 'been', 'theirs', 'few', 'weren', \"don't\", 'my', 'am', 'here', 'nor', 'isn', 'was', 'ain', 've', \"you're\", 'further', 'again'} \n",
      "\n",
      "\n",
      "{\"she's\", 'we', \"you'll\", 'don', 'o', \"didn't\", 'down', 'off', 'very', 'over', 'after', \"shan't\", 'out', 'yourselves', 'before', 'being', 'with', 'wasn', 'had', 'ours', 'for', 'most', 'until', 'wouldn', 'because', \"shouldn't\", 'mightn', 'same', 'that', 'myself', \"needn't\", 'so', 'her', 'more', \"that'll\", 'under', 'by', 'your', 'against', 'what', 'i', \"weren't\", 'doesn', 'those', \"you've\", \"you'd\", 'while', 'ourselves', 'himself', 'an', 'who', 'in', 'when', 'd', 'as', 'will', 'his', 'both', 'him', 'or', 'if', 'these', 'were', \"isn't\", 'hasn', 'a', 'mustn', \"doesn't\", 'during', 'each', 'needn', 'themselves', \"couldn't\", 'ma', 'its', \"should've\", 'haven', \"it's\", 'own', 'having', 's', 'herself', 'hadn', 'you', 'whom', 'but', 'than', 'not', \"mustn't\", 'such', 'does', 'then', 'me', 'shouldn', 'which', 'are', 'about', 'yours', 'there', 'other', 'be', 'itself', 'm', 'can', 'through', 'all', 'below', 'and', 'of', 'couldn', 'is', 'their', 'to', 'do', 'only', 'just', 'why', 'aren', 're', \"hasn't\", \"won't\", 'they', 'no', 'too', 'll', 'didn', 'on', 'some', \"wasn't\", 'should', 'any', 'y', 'shan', \"wouldn't\", 'between', 'at', 'where', 'the', 'she', 'now', \"mightn't\", 'yourself', 'did', 'this', \"haven't\", 'our', 'into', 'them', 'have', 'doing', 'once', 'how', 'has', 'up', \"aren't\", 't', 'from', 'hers', 'he', \"hadn't\", 'above', 'won', 'been', 'theirs', 'few', 'weren', \"don't\", 'my', 'am', 'here', 'nor', 'isn', 'was', 'ain', 've', \"you're\", 'further', 'again'} \n",
      "\n",
      "\n",
      "{\"she's\", 'we', \"you'll\", 'don', 'o', \"didn't\", 'down', 'off', 'very', 'over', 'after', \"shan't\", 'out', 'yourselves', 'before', 'being', 'with', 'wasn', 'had', 'ours', 'for', 'most', 'until', 'wouldn', 'because', \"shouldn't\", 'mightn', 'same', 'that', 'myself', \"needn't\", 'so', 'her', 'more', \"that'll\", 'under', 'by', 'your', 'against', 'what', 'i', \"weren't\", 'doesn', 'those', \"you've\", \"you'd\", 'while', 'ourselves', 'himself', 'an', 'who', 'in', 'when', 'd', 'as', 'Subject:', 'will', 'his', 'both', 'him', 'or', 'if', 'these', 'were', \"isn't\", 'hasn', 'a', 'mustn', \"doesn't\", 'during', 'each', 'needn', 'themselves', \"couldn't\", 'ma', 'its', \"should've\", 'haven', \"it's\", 'own', 'having', 's', 'herself', 'hadn', 'you', 'whom', 'but', 'than', 'not', \"mustn't\", 'such', 'does', 'then', 'me', 'shouldn', 'which', 'are', 'about', 'yours', 'there', 'other', 'be', 'itself', 'm', 'can', 'through', 'all', 'below', 'and', 'of', 'couldn', 'is', 'their', 'to', 'do', 'only', 'just', 'why', 'aren', 're', \"hasn't\", \"won't\", 'they', 'no', 'too', 'll', 'didn', 'on', 'some', \"wasn't\", 'should', 'any', 'y', 'shan', \"wouldn't\", 'between', 'at', 'where', 'the', 'she', 'now', \"mightn't\", 'yourself', 'did', 'this', \"haven't\", 'our', 'into', 'them', 'have', 'doing', 'once', 'how', 'has', 'up', \"aren't\", 't', 'from', 'hers', 'he', \"hadn't\", 'above', 'won', 'been', 'theirs', 'few', 'weren', \"don't\", 'my', 'am', 'here', 'nor', 'isn', 'was', 'ain', 've', \"you're\", 'further', 'again'} \n",
      "\n",
      "\n"
     ]
    },
    {
     "name": "stderr",
     "output_type": "stream",
     "text": [
      "[nltk_data] Downloading package stopwords to\n",
      "[nltk_data]     C:\\Users\\Hp\\AppData\\Roaming\\nltk_data...\n",
      "[nltk_data]   Package stopwords is already up-to-date!\n"
     ]
    }
   ],
   "source": [
    "# Using NLTK\n",
    "\n",
    "import nltk\n",
    "nltk.download('stopwords')\n",
    "from nltk.corpus import stopwords\n",
    "from nltk.tokenize import word_tokenize\n",
    "\n",
    "#display\n",
    "stop_words = set(stopwords.words('english'))\n",
    "print(stop_words, \"\\n\\n\")\n",
    "\n",
    "#remove\n",
    "stop_words.remove('it')\n",
    "print(stop_words, \"\\n\\n\")\n",
    "\n",
    "#add\n",
    "stop_words.add('Subject:')\n",
    "print(stop_words, \"\\n\\n\")"
   ]
  },
  {
   "cell_type": "code",
   "execution_count": 7,
   "id": "304604a1",
   "metadata": {},
   "outputs": [
    {
     "data": {
      "text/plain": [
       "'4 color printing special request additional information ! click click printable version order form ( pdf format ) phone : ( 626 ) 338 - 8090 fax : ( 626 ) 338 - 8102 e - mail : ramsey @ goldengraphix . com request additional information ! click click printable version order form ( pdf format ) golden graphix & printing 5110 azusa canyon rd . irwindale , ca 91706 e - mail message advertisement / solicitation games54 Game5S4 .'"
      ]
     },
     "execution_count": 7,
     "metadata": {},
     "output_type": "execute_result"
    }
   ],
   "source": [
    "# remove stopwords from text\n",
    "\n",
    "def remove_stopwords(txt):\n",
    "    return \" \".join([word for word in str(txt).split() if word not in stop_words])\n",
    "data['text'] = data['text'].apply(lambda x : remove_stopwords(x))\n",
    "data['text'][3]"
   ]
  },
  {
   "cell_type": "code",
   "execution_count": null,
   "id": "ffb65bfd",
   "metadata": {},
   "outputs": [],
   "source": []
  }
 ],
 "metadata": {
  "kernelspec": {
   "display_name": "Python 3 (ipykernel)",
   "language": "python",
   "name": "python3"
  },
  "language_info": {
   "codemirror_mode": {
    "name": "ipython",
    "version": 3
   },
   "file_extension": ".py",
   "mimetype": "text/x-python",
   "name": "python",
   "nbconvert_exporter": "python",
   "pygments_lexer": "ipython3",
   "version": "3.9.7"
  }
 },
 "nbformat": 4,
 "nbformat_minor": 5
}
